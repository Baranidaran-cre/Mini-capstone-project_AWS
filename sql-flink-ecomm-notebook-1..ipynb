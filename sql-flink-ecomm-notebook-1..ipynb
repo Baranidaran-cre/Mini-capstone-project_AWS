﻿{
  "metadata": {
    "name": "sql-flink-ecomm-notebook-1",
    "kernelspec": {
      "language": "scala",
      "name": "spark2-scala"
    },
    "language_info": {
      "codemirror_mode": "text/x-scala",
      "file_extension": ".scala",
      "mimetype": "text/x-scala",
      "name": "scala",
      "pygments_lexer": "scala"
    }
  },
  "nbformat": 4,
  "nbformat_minor": 2,
  "cells": [
    {
      "cell_type": "markdown",
      "metadata": {},
      "source": "## Streaming Lab: Apache Flink - Using SQL - Demo 1"
    },
    {
      "cell_type": "markdown",
      "metadata": {},
      "source": "#### Data pipeline: Kinesis Stream --\u003e KDA and Apache Flink --\u003e Kinesis Stream"
    },
    {
      "cell_type": "code",
      "execution_count": 2,
      "metadata": {
        "autoscroll": "auto"
      },
      "outputs": [],
      "source": "%flink.ssql\n\n/*Option \u0027IF NOT EXISTS\u0027 can be used, to protect the existing Schema */\nDROP TABLE IF EXISTS ecommerce-raw-user-activity-stream-1;\n\nCREATE TABLE ecommerce-raw-user-activity-stream-1 (\n  `event_time` VARCHAR(30), \n  `event_type` VARCHAR(30), \n  `product_id` BIGINT, \n  `category_id` BIGINT, \n  `category_code` VARCHAR(30), \n  `brand` VARCHAR(30), \n  `price` DOUBLE, \n  `user_id` BIGINT, \n  `user_session` VARCHAR(30),\n  `txn_timestamp` TIMESTAMP(3),\n  WATERMARK FOR txn_timestamp as txn_timestamp - INTERVAL \u002710\u0027 SECOND  \n)\nPARTITIONED BY (category_id)\nWITH (\n  \u0027connector\u0027 \u003d \u0027kinesis\u0027,\n  \u0027stream\u0027 \u003d \u0027ecommerce-raw-user-activity-stream-1\u0027,\n  \u0027aws.region\u0027 \u003d \u0027ap-south-1\u0027,\n  \u0027scan.stream.initpos\u0027 \u003d \u0027LATEST\u0027,\n  \u0027format\u0027 \u003d \u0027json\u0027,\n  \u0027json.timestamp-format.standard\u0027 \u003d \u0027ISO-8601\u0027\n);\n\n\n/*Option \u0027IF NOT EXISTS\u0027 can be used, to protect the existing Schema */\nDROP TABLE IF EXISTS ecommerce-raw-user-activity-stream-2;\n\nCREATE TABLE ecommerce-raw-user-activity-stream-2 (\n  `user_id` BIGINT, \n  `num_actions_per_watermark` BIGINT\n)\nWITH (\n  \u0027connector\u0027 \u003d \u0027kinesis\u0027,\n  \u0027stream\u0027 \u003d \u0027ecommerce-raw-user-activity-stream-2\u0027,\n  \u0027aws.region\u0027 \u003d \u0027ap-south-1\u0027,\n  \u0027format\u0027 \u003d \u0027json\u0027,\n  \u0027json.timestamp-format.standard\u0027 \u003d \u0027ISO-8601\u0027\n);\n\n/* Inserting aggregation into Stream 2*/\ninsert into ecomm_user_activity_stream_2\nselect  user_id, count(1) as num_actions_per_watermark\nfrom ecommerce-raw-user-activity-stream-1\ngroup by tumble(txn_timestamp, INTERVAL \u002710\u0027 SECOND), user_id\nhaving count(1) \u003e 1;"
    }
  ]
}